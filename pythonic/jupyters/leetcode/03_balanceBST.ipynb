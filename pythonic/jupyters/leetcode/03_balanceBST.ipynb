{
 "cells": [
  {
   "cell_type": "markdown",
   "metadata": {},
   "source": [
    "https://leetcode.com/problems/balance-a-binary-search-tree/"
   ]
  },
  {
   "cell_type": "code",
   "execution_count": 3,
   "metadata": {},
   "outputs": [],
   "source": [
    "class TreeNode:\n",
    "    def __init__(self, val=0, left=None, right=None):\n",
    "        self.val = val\n",
    "        self.left = left\n",
    "        self.right = right\n"
   ]
  },
  {
   "cell_type": "code",
   "execution_count": 4,
   "metadata": {},
   "outputs": [],
   "source": [
    "def balanceBST(self, root: TreeNode) -> TreeNode:\n",
    "    v = []\n",
    "    def dfs(node):\n",
    "        if node:\n",
    "            dfs(node.left)\n",
    "            v.append(node.val)\n",
    "            dfs(node.right)\n",
    "    dfs(root)\n",
    "\n",
    "    def bst(v):\n",
    "        if not v:\n",
    "            return None\n",
    "        mid = len(v) // 2\n",
    "        root = TreeNode(v[mid])\n",
    "        root.left = bst(v[:mid])\n",
    "        root.right = bst(v[mid + 1:])\n",
    "        return root\n",
    "\n",
    "    return bst(v)        "
   ]
  },
  {
   "cell_type": "raw",
   "metadata": {},
   "source": [
    "Input: root = [1,null,2,null,3,null,4,null,null]\n",
    "Output: [2,1,3,null,null,null,4]\n",
    "Explanation: This is not the only correct answer, [3,1,4,null,2,null,null] is also correct."
   ]
  }
 ],
 "metadata": {
  "kernelspec": {
   "display_name": "Python 3",
   "language": "python",
   "name": "python3"
  },
  "language_info": {
   "codemirror_mode": {
    "name": "ipython",
    "version": 3
   },
   "file_extension": ".py",
   "mimetype": "text/x-python",
   "name": "python",
   "nbconvert_exporter": "python",
   "pygments_lexer": "ipython3",
   "version": "3.8.2"
  }
 },
 "nbformat": 4,
 "nbformat_minor": 4
}
